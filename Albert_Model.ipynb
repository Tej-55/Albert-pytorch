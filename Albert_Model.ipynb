{
  "cells": [
    {
      "cell_type": "markdown",
      "metadata": {
        "id": "view-in-github",
        "colab_type": "text"
      },
      "source": [
        "<a href=\"https://colab.research.google.com/github/Tej-55/Albert-pytorch/blob/master/Albert_Model.ipynb\" target=\"_parent\"><img src=\"https://colab.research.google.com/assets/colab-badge.svg\" alt=\"Open In Colab\"/></a>"
      ]
    },
    {
      "cell_type": "code",
      "execution_count": null,
      "metadata": {
        "colab": {
          "base_uri": "https://localhost:8080/"
        },
        "id": "P7jDvwJR4AIK",
        "outputId": "642eee50-21d9-46b7-977d-867615cb28d6"
      },
      "outputs": [
        {
          "output_type": "stream",
          "name": "stdout",
          "text": [
            "Cloning into 'Albert-pytorch'...\n",
            "remote: Enumerating objects: 287, done.\u001b[K\n",
            "remote: Counting objects: 100% (287/287), done.\u001b[K\n",
            "remote: Compressing objects: 100% (150/150), done.\u001b[K\n",
            "remote: Total 287 (delta 168), reused 218 (delta 133), pack-reused 0\u001b[K\n",
            "Receiving objects: 100% (287/287), 5.27 MiB | 5.53 MiB/s, done.\n",
            "Resolving deltas: 100% (168/168), done.\n"
          ]
        }
      ],
      "source": [
        "!git clone https://github.com/Tej-55/Albert-pytorch.git\n"
      ]
    },
    {
      "cell_type": "code",
      "execution_count": null,
      "metadata": {
        "colab": {
          "base_uri": "https://localhost:8080/"
        },
        "id": "-wWto0MFgK8B",
        "outputId": "7f0efe84-56da-4aef-ba88-6a7a69f13056"
      },
      "outputs": [
        {
          "output_type": "stream",
          "name": "stdout",
          "text": [
            "Requirement already satisfied: protobuf in /usr/local/lib/python3.10/dist-packages (3.20.3)\n",
            "Collecting protobuf\n",
            "  Downloading protobuf-4.24.4-cp37-abi3-manylinux2014_x86_64.whl (311 kB)\n",
            "\u001b[2K     \u001b[90m━━━━━━━━━━━━━━━━━━━━━━━━━━━━━━━━━━━━━━━━\u001b[0m \u001b[32m311.6/311.6 kB\u001b[0m \u001b[31m5.4 MB/s\u001b[0m eta \u001b[36m0:00:00\u001b[0m\n",
            "\u001b[?25hRequirement already satisfied: tensorflow in /usr/local/lib/python3.10/dist-packages (2.14.0)\n",
            "Requirement already satisfied: absl-py>=1.0.0 in /usr/local/lib/python3.10/dist-packages (from tensorflow) (1.4.0)\n",
            "Requirement already satisfied: astunparse>=1.6.0 in /usr/local/lib/python3.10/dist-packages (from tensorflow) (1.6.3)\n",
            "Requirement already satisfied: flatbuffers>=23.5.26 in /usr/local/lib/python3.10/dist-packages (from tensorflow) (23.5.26)\n",
            "Requirement already satisfied: gast!=0.5.0,!=0.5.1,!=0.5.2,>=0.2.1 in /usr/local/lib/python3.10/dist-packages (from tensorflow) (0.5.4)\n",
            "Requirement already satisfied: google-pasta>=0.1.1 in /usr/local/lib/python3.10/dist-packages (from tensorflow) (0.2.0)\n",
            "Requirement already satisfied: h5py>=2.9.0 in /usr/local/lib/python3.10/dist-packages (from tensorflow) (3.9.0)\n",
            "Requirement already satisfied: libclang>=13.0.0 in /usr/local/lib/python3.10/dist-packages (from tensorflow) (16.0.6)\n",
            "Requirement already satisfied: ml-dtypes==0.2.0 in /usr/local/lib/python3.10/dist-packages (from tensorflow) (0.2.0)\n",
            "Requirement already satisfied: numpy>=1.23.5 in /usr/local/lib/python3.10/dist-packages (from tensorflow) (1.23.5)\n",
            "Requirement already satisfied: opt-einsum>=2.3.2 in /usr/local/lib/python3.10/dist-packages (from tensorflow) (3.3.0)\n",
            "Requirement already satisfied: packaging in /usr/local/lib/python3.10/dist-packages (from tensorflow) (23.2)\n",
            "Requirement already satisfied: setuptools in /usr/local/lib/python3.10/dist-packages (from tensorflow) (67.7.2)\n",
            "Requirement already satisfied: six>=1.12.0 in /usr/local/lib/python3.10/dist-packages (from tensorflow) (1.16.0)\n",
            "Requirement already satisfied: termcolor>=1.1.0 in /usr/local/lib/python3.10/dist-packages (from tensorflow) (2.3.0)\n",
            "Requirement already satisfied: typing-extensions>=3.6.6 in /usr/local/lib/python3.10/dist-packages (from tensorflow) (4.5.0)\n",
            "Requirement already satisfied: wrapt<1.15,>=1.11.0 in /usr/local/lib/python3.10/dist-packages (from tensorflow) (1.14.1)\n",
            "Requirement already satisfied: tensorflow-io-gcs-filesystem>=0.23.1 in /usr/local/lib/python3.10/dist-packages (from tensorflow) (0.34.0)\n",
            "Requirement already satisfied: grpcio<2.0,>=1.24.3 in /usr/local/lib/python3.10/dist-packages (from tensorflow) (1.59.0)\n",
            "Requirement already satisfied: tensorboard<2.15,>=2.14 in /usr/local/lib/python3.10/dist-packages (from tensorflow) (2.14.1)\n",
            "Requirement already satisfied: tensorflow-estimator<2.15,>=2.14.0 in /usr/local/lib/python3.10/dist-packages (from tensorflow) (2.14.0)\n",
            "Requirement already satisfied: keras<2.15,>=2.14.0 in /usr/local/lib/python3.10/dist-packages (from tensorflow) (2.14.0)\n",
            "Requirement already satisfied: wheel<1.0,>=0.23.0 in /usr/local/lib/python3.10/dist-packages (from astunparse>=1.6.0->tensorflow) (0.41.2)\n",
            "Requirement already satisfied: google-auth<3,>=1.6.3 in /usr/local/lib/python3.10/dist-packages (from tensorboard<2.15,>=2.14->tensorflow) (2.17.3)\n",
            "Requirement already satisfied: google-auth-oauthlib<1.1,>=0.5 in /usr/local/lib/python3.10/dist-packages (from tensorboard<2.15,>=2.14->tensorflow) (1.0.0)\n",
            "Requirement already satisfied: markdown>=2.6.8 in /usr/local/lib/python3.10/dist-packages (from tensorboard<2.15,>=2.14->tensorflow) (3.5)\n",
            "Requirement already satisfied: requests<3,>=2.21.0 in /usr/local/lib/python3.10/dist-packages (from tensorboard<2.15,>=2.14->tensorflow) (2.31.0)\n",
            "Requirement already satisfied: tensorboard-data-server<0.8.0,>=0.7.0 in /usr/local/lib/python3.10/dist-packages (from tensorboard<2.15,>=2.14->tensorflow) (0.7.1)\n",
            "Requirement already satisfied: werkzeug>=1.0.1 in /usr/local/lib/python3.10/dist-packages (from tensorboard<2.15,>=2.14->tensorflow) (3.0.0)\n",
            "Requirement already satisfied: cachetools<6.0,>=2.0.0 in /usr/local/lib/python3.10/dist-packages (from google-auth<3,>=1.6.3->tensorboard<2.15,>=2.14->tensorflow) (5.3.1)\n",
            "Requirement already satisfied: pyasn1-modules>=0.2.1 in /usr/local/lib/python3.10/dist-packages (from google-auth<3,>=1.6.3->tensorboard<2.15,>=2.14->tensorflow) (0.3.0)\n",
            "Requirement already satisfied: rsa<5,>=3.1.4 in /usr/local/lib/python3.10/dist-packages (from google-auth<3,>=1.6.3->tensorboard<2.15,>=2.14->tensorflow) (4.9)\n",
            "Requirement already satisfied: requests-oauthlib>=0.7.0 in /usr/local/lib/python3.10/dist-packages (from google-auth-oauthlib<1.1,>=0.5->tensorboard<2.15,>=2.14->tensorflow) (1.3.1)\n",
            "Requirement already satisfied: charset-normalizer<4,>=2 in /usr/local/lib/python3.10/dist-packages (from requests<3,>=2.21.0->tensorboard<2.15,>=2.14->tensorflow) (3.3.0)\n",
            "Requirement already satisfied: idna<4,>=2.5 in /usr/local/lib/python3.10/dist-packages (from requests<3,>=2.21.0->tensorboard<2.15,>=2.14->tensorflow) (3.4)\n",
            "Requirement already satisfied: urllib3<3,>=1.21.1 in /usr/local/lib/python3.10/dist-packages (from requests<3,>=2.21.0->tensorboard<2.15,>=2.14->tensorflow) (2.0.7)\n",
            "Requirement already satisfied: certifi>=2017.4.17 in /usr/local/lib/python3.10/dist-packages (from requests<3,>=2.21.0->tensorboard<2.15,>=2.14->tensorflow) (2023.7.22)\n",
            "Requirement already satisfied: MarkupSafe>=2.1.1 in /usr/local/lib/python3.10/dist-packages (from werkzeug>=1.0.1->tensorboard<2.15,>=2.14->tensorflow) (2.1.3)\n",
            "Requirement already satisfied: pyasn1<0.6.0,>=0.4.6 in /usr/local/lib/python3.10/dist-packages (from pyasn1-modules>=0.2.1->google-auth<3,>=1.6.3->tensorboard<2.15,>=2.14->tensorflow) (0.5.0)\n",
            "Requirement already satisfied: oauthlib>=3.0.0 in /usr/local/lib/python3.10/dist-packages (from requests-oauthlib>=0.7.0->google-auth-oauthlib<1.1,>=0.5->tensorboard<2.15,>=2.14->tensorflow) (3.2.2)\n",
            "Installing collected packages: protobuf\n",
            "  Attempting uninstall: protobuf\n",
            "    Found existing installation: protobuf 3.20.3\n",
            "    Uninstalling protobuf-3.20.3:\n",
            "      Successfully uninstalled protobuf-3.20.3\n",
            "\u001b[31mERROR: pip's dependency resolver does not currently take into account all the packages that are installed. This behaviour is the source of the following dependency conflicts.\n",
            "tensorflow-metadata 1.14.0 requires protobuf<4.21,>=3.20.3, but you have protobuf 4.24.4 which is incompatible.\u001b[0m\u001b[31m\n",
            "\u001b[0mSuccessfully installed protobuf-4.24.4\n",
            "Collecting tensorboardX\n",
            "  Downloading tensorboardX-2.6.2.2-py2.py3-none-any.whl (101 kB)\n",
            "\u001b[2K     \u001b[90m━━━━━━━━━━━━━━━━━━━━━━━━━━━━━━━━━━━━━━━━\u001b[0m \u001b[32m101.7/101.7 kB\u001b[0m \u001b[31m2.9 MB/s\u001b[0m eta \u001b[36m0:00:00\u001b[0m\n",
            "\u001b[?25hRequirement already satisfied: numpy in /usr/local/lib/python3.10/dist-packages (from tensorboardX) (1.23.5)\n",
            "Requirement already satisfied: packaging in /usr/local/lib/python3.10/dist-packages (from tensorboardX) (23.2)\n",
            "Requirement already satisfied: protobuf>=3.20 in /usr/local/lib/python3.10/dist-packages (from tensorboardX) (4.24.4)\n",
            "Installing collected packages: tensorboardX\n",
            "Successfully installed tensorboardX-2.6.2.2\n"
          ]
        }
      ],
      "source": [
        "# to use TensorboardX\n",
        "! pip install -U protobuf tensorflow\n",
        "! pip install tensorboardX\n",
        "#! tensorboard --logdir logs # expose http://server-ip:6006/"
      ]
    },
    {
      "cell_type": "code",
      "execution_count": null,
      "metadata": {
        "id": "bbXmQHQcfIVj"
      },
      "outputs": [],
      "source": [
        "!cd Albert-pytorch"
      ]
    },
    {
      "cell_type": "markdown",
      "source": [
        "## Pretraining the model"
      ],
      "metadata": {
        "id": "BVXBmSgkHAnj"
      }
    },
    {
      "cell_type": "code",
      "execution_count": null,
      "metadata": {
        "colab": {
          "base_uri": "https://localhost:8080/"
        },
        "id": "opqyVn0Wd_6u",
        "outputId": "ea022ddb-8be2-4b6d-c3b3-6b6c5bccb7aa"
      },
      "outputs": [
        {
          "output_type": "stream",
          "name": "stdout",
          "text": [
            "cuda (1 GPUs)\n",
            "Iter (loss=X.XXX): 0it [00:00, ?it/s]/content/Albert-pytorch/optim.py:118: UserWarning: This overload of add_ is deprecated:\n",
            "\tadd_(Number alpha, Tensor other)\n",
            "Consider using one of the following signatures instead:\n",
            "\tadd_(Tensor other, *, Number alpha) (Triggered internally at ../torch/csrc/utils/python_arg_parser.cpp:1519.)\n",
            "  next_m.mul_(beta1).add_(1 - beta1, grad)\n",
            "Iter (loss=5.159): : 104it [01:31,  1.14it/s]\n",
            "Epoch 1/10 : Average Loss 13.740\n",
            "Iter (loss=4.353): : 104it [01:28,  1.17it/s]\n",
            "Epoch 2/10 : Average Loss 4.565\n",
            "Iter (loss=4.272): : 104it [01:28,  1.18it/s]\n",
            "Epoch 3/10 : Average Loss 4.393\n",
            "Iter (loss=4.301): : 104it [01:28,  1.17it/s]\n",
            "Epoch 4/10 : Average Loss 4.341\n",
            "Iter (loss=4.320): : 104it [01:29,  1.16it/s]\n",
            "Epoch 5/10 : Average Loss 4.307\n",
            "Iter (loss=4.197): : 104it [01:28,  1.18it/s]\n",
            "Epoch 6/10 : Average Loss 4.281\n",
            "Iter (loss=3.971): : 104it [01:27,  1.18it/s]\n",
            "Epoch 7/10 : Average Loss 4.262\n",
            "Iter (loss=4.217): : 104it [01:28,  1.18it/s]\n",
            "Epoch 8/10 : Average Loss 4.235\n",
            "Iter (loss=4.214): : 104it [01:27,  1.19it/s]\n",
            "Epoch 9/10 : Average Loss 4.230\n",
            "Iter (loss=4.288): : 104it [01:27,  1.18it/s]\n",
            "Epoch 10/10 : Average Loss 4.211\n"
          ]
        }
      ],
      "source": [
        "|!python /content/Albert-pytorch/pretrain.py \\\n",
        "            --data_file './Albert-pytorch/data/wiki.train.tokens' \\\n",
        "            --vocab './Albert-pytorch/data/vocab.txt' \\\n",
        "            --train_cfg './Albert-pytorch/config/pretrain.json' \\\n",
        "            --model_cfg './Albert-pytorch/config/albert_base.json' \\\n",
        "            --max_pred 75 --mask_prob 0.15 \\\n",
        "            --mask_alpha 4 --mask_beta 1 --max_gram 3 \\\n",
        "            --save_dir './Albert-pytorch/saved/pretrained' \\\n",
        "            --log_dir './Albert-pytorch/logs'"
      ]
    },
    {
      "cell_type": "code",
      "execution_count": null,
      "metadata": {
        "id": "jSdutnszGL3w"
      },
      "outputs": [],
      "source": [
        "#! tensorboard --logdir /content/Albert-pytorch/logs # expose http://server-ip:6006/\n"
      ]
    },
    {
      "cell_type": "code",
      "execution_count": null,
      "metadata": {
        "colab": {
          "base_uri": "https://localhost:8080/"
        },
        "id": "Oi7DSPYiO39g",
        "outputId": "8503d6cf-698c-4b73-999a-abc8ba6a148b"
      },
      "outputs": [
        {
          "output_type": "stream",
          "name": "stdout",
          "text": [
            "Collecting fire\n",
            "  Downloading fire-0.5.0.tar.gz (88 kB)\n",
            "\u001b[?25l     \u001b[90m━━━━━━━━━━━━━━━━━━━━━━━━━━━━━━━━━━━━━━━━\u001b[0m \u001b[32m0.0/88.3 kB\u001b[0m \u001b[31m?\u001b[0m eta \u001b[36m-:--:--\u001b[0m\r\u001b[2K     \u001b[90m━━━━━━━━━━━━━━━━━━━━━━━━━━━━━━━━━━━━━━━━\u001b[0m \u001b[32m88.3/88.3 kB\u001b[0m \u001b[31m2.9 MB/s\u001b[0m eta \u001b[36m0:00:00\u001b[0m\n",
            "\u001b[?25h  Preparing metadata (setup.py) ... \u001b[?25l\u001b[?25hdone\n",
            "Requirement already satisfied: six in /usr/local/lib/python3.10/dist-packages (from fire) (1.16.0)\n",
            "Requirement already satisfied: termcolor in /usr/local/lib/python3.10/dist-packages (from fire) (2.3.0)\n",
            "Building wheels for collected packages: fire\n",
            "  Building wheel for fire (setup.py) ... \u001b[?25l\u001b[?25hdone\n",
            "  Created wheel for fire: filename=fire-0.5.0-py2.py3-none-any.whl size=116934 sha256=e50629e304793bfca84e8180067e3e9db6348923a49f96451e4927950fa32d4f\n",
            "  Stored in directory: /root/.cache/pip/wheels/90/d4/f7/9404e5db0116bd4d43e5666eaa3e70ab53723e1e3ea40c9a95\n",
            "Successfully built fire\n",
            "Installing collected packages: fire\n",
            "Successfully installed fire-0.5.0\n"
          ]
        }
      ],
      "source": [
        "!pip install fire"
      ]
    },
    {
      "cell_type": "markdown",
      "source": [
        "## Finetuning on MRPC"
      ],
      "metadata": {
        "id": "EIAaSHrRHI_6"
      }
    },
    {
      "cell_type": "code",
      "execution_count": null,
      "metadata": {
        "colab": {
          "base_uri": "https://localhost:8080/"
        },
        "id": "DRXI48gVHPAx",
        "outputId": "7893cecf-86c0-4b5e-e5bc-76658e7c9474"
      },
      "outputs": [
        {
          "output_type": "stream",
          "name": "stdout",
          "text": [
            "cuda (1 GPUs)\n",
            "Loading the pretrained model from /content/Albert-pytorch/saved/pretrained/model_steps_1040.pt\n",
            "Iter (loss=X.XXX):   0% 0/128 [00:00<?, ?it/s]/content/Albert-pytorch/optim.py:118: UserWarning: This overload of add_ is deprecated:\n",
            "\tadd_(Number alpha, Tensor other)\n",
            "Consider using one of the following signatures instead:\n",
            "\tadd_(Tensor other, *, Number alpha) (Triggered internally at ../torch/csrc/utils/python_arg_parser.cpp:1519.)\n",
            "  next_m.mul_(beta1).add_(1 - beta1, grad)\n",
            "Iter (loss=0.800): 100% 128/128 [00:11<00:00, 11.58it/s]\n",
            "Epoch 1/3 : Average Loss 0.641\n",
            "Iter (loss=0.528): 100% 128/128 [00:10<00:00, 12.23it/s]\n",
            "Epoch 2/3 : Average Loss 0.628\n",
            "Iter (loss=0.686):  69% 88/128 [00:07<00:03, 11.85it/s]Epoch 3/3 : Average Loss 0.621\n",
            "The Total Steps have been reached.\n",
            "Iter (loss=0.686):  70% 89/128 [00:07<00:03, 11.94it/s]\n"
          ]
        }
      ],
      "source": [
        "!python /content/Albert-pytorch/classify.py \\\n",
        "    --task mrpc \\\n",
        "    --mode train \\\n",
        "    --train_cfg '/content/Albert-pytorch/config/train_mrpc.json' \\\n",
        "    --model_cfg '/content/Albert-pytorch/config/albert_base.json' \\\n",
        "    --data_file '/content/Albert-pytorch/data/msr_paraphrase_train.txt' \\\n",
        "    --pretrain_file '/content/Albert-pytorch/saved/pretrained/model_steps_1040.pt' \\\n",
        "    --vocab '/content/Albert-pytorch/data/vocab.txt' \\\n",
        "    --save_dir '/content/Albert-pytorch/saved/finetuned' \\\n",
        "    --max_len 128"
      ]
    },
    {
      "cell_type": "markdown",
      "source": [
        "## Evaluating on Test set"
      ],
      "metadata": {
        "id": "J0D9qFlKHOa4"
      }
    },
    {
      "cell_type": "code",
      "execution_count": null,
      "metadata": {
        "id": "4i0Z_90vQeD7",
        "colab": {
          "base_uri": "https://localhost:8080/"
        },
        "outputId": "a494bc05-1563-466c-8283-29006a1942ac"
      },
      "outputs": [
        {
          "output_type": "stream",
          "name": "stdout",
          "text": [
            "cuda (1 GPUs)\n",
            "Iter(acc=0.655): 100% 54/54 [00:02<00:00, 25.97it/s]\n",
            "Accuracy: 0.6649274826049805\n"
          ]
        }
      ],
      "source": [
        "!python /content/Albert-pytorch/classify.py \\\n",
        "    --task mrpc \\\n",
        "    --mode eval \\\n",
        "    --train_cfg '/content/Albert-pytorch/config/train_mrpc.json' \\\n",
        "    --model_cfg '/content/Albert-pytorch/config/albert_base.json' \\\n",
        "    --data_file '/content/Albert-pytorch/data/msr_paraphrase_test.txt' \\\n",
        "    --pretrain_file '/content/Albert-pytorch/saved/finetuned/model_steps_346.pt' \\\n",
        "    --vocab '/content/Albert-pytorch/data/vocab.txt' \\\n",
        "    --max_len 128"
      ]
    },
    {
      "cell_type": "code",
      "source": [],
      "metadata": {
        "id": "AY1_28Vkzc3Y"
      },
      "execution_count": null,
      "outputs": []
    }
  ],
  "metadata": {
    "accelerator": "GPU",
    "colab": {
      "provenance": [],
      "gpuType": "T4",
      "authorship_tag": "ABX9TyO6YuP2nx4aZ8k1bsRSSiP7",
      "include_colab_link": true
    },
    "kernelspec": {
      "display_name": "Python 3",
      "name": "python3"
    },
    "language_info": {
      "name": "python"
    }
  },
  "nbformat": 4,
  "nbformat_minor": 0
}